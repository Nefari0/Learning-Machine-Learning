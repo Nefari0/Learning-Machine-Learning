{
 "cells": [
  {
   "cell_type": "markdown",
   "metadata": {
    "colab_type": "text",
    "id": "i_paGd_yLbgH"
   },
   "source": [
    "# K-Means Clustering"
   ]
  },
  {
   "cell_type": "markdown",
   "metadata": {
    "colab_type": "text",
    "id": "nAuqPwTnLipr"
   },
   "source": [
    "## Importing the libraries"
   ]
  },
  {
   "cell_type": "code",
   "execution_count": 3,
   "metadata": {
    "colab": {},
    "colab_type": "code",
    "id": "yUXGcC4KLmcL"
   },
   "outputs": [],
   "source": [
    "import numpy as np\n",
    "import matplotlib.pyplot as plt\n",
    "import pandas as pd\n",
    "import sympy as sym"
   ]
  },
  {
   "cell_type": "markdown",
   "metadata": {
    "colab_type": "text",
    "id": "5LciKOr8Lo5O"
   },
   "source": [
    "## Importing the dataset"
   ]
  },
  {
   "cell_type": "code",
   "execution_count": 77,
   "metadata": {},
   "outputs": [
    {
     "name": "stdout",
     "output_type": "stream",
     "text": [
      "     CustomerID   Genre  Age  Annual Income (k$)  Spending Score (1-100)\n",
      "0             1    Male   19                  15                      39\n",
      "1             2    Male   21                  15                      81\n",
      "2             3  Female   20                  16                       6\n",
      "3             4  Female   23                  16                      77\n",
      "4             5  Female   31                  17                      40\n",
      "..          ...     ...  ...                 ...                     ...\n",
      "195         196  Female   35                 120                      79\n",
      "196         197  Female   45                 126                      28\n",
      "197         198    Male   32                 126                      74\n",
      "198         199    Male   32                 137                      18\n",
      "199         200    Male   30                 137                      83\n",
      "\n",
      "[200 rows x 5 columns]\n"
     ]
    }
   ],
   "source": [
    "dataset = pd.read_csv('Mall_Customers.csv')\n",
    "print(dataset)"
   ]
  },
  {
   "cell_type": "code",
   "execution_count": 209,
   "metadata": {
    "colab": {},
    "colab_type": "code",
    "id": "9RlmPzZGLtGi"
   },
   "outputs": [
    {
     "name": "stdout",
     "output_type": "stream",
     "text": [
      "['Male' 19]\n"
     ]
    }
   ],
   "source": [
    "dataset = pd.read_csv('Mall_Customers.csv')\n",
    "X = dataset.iloc[:, [3,4]].values # annual income / spending score\n",
    "X_2 = dataset.iloc[:, [1,2]].values # gender / age\n",
    "print(X_2[0],)"
   ]
  },
  {
   "cell_type": "code",
   "execution_count": 253,
   "metadata": {},
   "outputs": [],
   "source": [
    "# Encode cagagorical data of X_2\n",
    "# this code generates 3 columns, one for each col in the country var. This is to prevent the country col from effecting the computation\n",
    "X_2 = dataset.iloc[:, [1,2]].values # gender / age\n",
    "from sklearn.compose import ColumnTransformer\n",
    "from sklearn.preprocessing import OneHotEncoder\n",
    "ct = ColumnTransformer(transformers=[('encoder',OneHotEncoder(), [0])], remainder='passthrough')# object of the column transformer class\n",
    "X_2 = np.array(ct.fit_transform(X_2))"
   ]
  },
  {
   "cell_type": "markdown",
   "metadata": {
    "colab_type": "text",
    "id": "nWC2EWp2Lx5G"
   },
   "source": [
    "## Using the elbow method to calculate the optimal number of clusters"
   ]
  },
  {
   "cell_type": "code",
   "execution_count": 216,
   "metadata": {
    "colab": {
     "base_uri": "https://localhost:8080/",
     "height": 295
    },
    "colab_type": "code",
    "executionInfo": {
     "elapsed": 2064,
     "status": "ok",
     "timestamp": 1586372911621,
     "user": {
      "displayName": "Hadelin de Ponteves",
      "photoUrl": "https://lh3.googleusercontent.com/a-/AOh14GhEuXdT7eQweUmRPW8_laJuPggSK6hfvpl5a6WBaA=s64",
      "userId": "15047218817161520419"
     },
     "user_tz": -240
    },
    "id": "zWs6ciOoL1b3",
    "outputId": "893027bb-ecf9-45a4-f229-f54cebdccee2"
   },
   "outputs": [
    {
     "data": {
      "image/png": "[encoded data removed]",
      "text/plain": [
       "<Figure size 432x288 with 1 Axes>"
      ]
     },
     "metadata": {
      "needs_background": "light"
     },
     "output_type": "display_data"
    }
   ],
   "source": [
    "# Annual Income / Spending Score\n",
    "#  wcss / width and cluster sum of squares\n",
    "\n",
    "from sklearn.cluster import KMeans\n",
    "\n",
    "wcss = []\n",
    "for i in range(1,11):\n",
    "    kmeans = KMeans(n_clusters = i, init = 'k-means++', random_state = 42)\n",
    "    kmeans.fit(X)\n",
    "    wcss.append(kmeans.inertia_)\n",
    "    \n",
    "plt.plot(range(1,11), wcss, 'ro')\n",
    "\n",
    "# plt.title('The Elbow Method')\n",
    "plt.xlabel('Number of Clusters')\n",
    "plt.ylabel('WCSS')\n",
    "plt.show()\n",
    "    \n",
    "    "
   ]
  },
  {
   "cell_type": "code",
   "execution_count": 215,
   "metadata": {},
   "outputs": [
    {
     "data": {
      "image/png": "[encoded data removed]",
      "text/plain": [
       "<Figure size 432x288 with 1 Axes>"
      ]
     },
     "metadata": {
      "needs_background": "light"
     },
     "output_type": "display_data"
    }
   ],
   "source": [
    "# Gender / Age\n",
    "#  wcss / width and cluster sum of squares\n",
    "\n",
    "wcss_2 = []\n",
    "for i in range(1,11):\n",
    "    kmeans_2 = KMeans(n_clusters = i, init = 'k-means++', random_state = 42)\n",
    "    kmeans_2.fit(X_2)\n",
    "    wcss_2.append(kmeans_2.inertia_)\n",
    "    \n",
    "plt.plot(range(1,11), wcss_2, 'bo')\n",
    "\n",
    "# plt.title('The Elbow Method')\n",
    "plt.xlabel('Number of Clusters')\n",
    "plt.ylabel('WCSS 2')\n",
    "plt.show()"
   ]
  },
  {
   "cell_type": "code",
   "execution_count": 214,
   "metadata": {},
   "outputs": [],
   "source": [
    "# print(X_2)"
   ]
  },
  {
   "cell_type": "markdown",
   "metadata": {
    "colab_type": "text",
    "id": "VgT0mANLL4Nz"
   },
   "source": [
    "## Training the K-Means model on the dataset"
   ]
  },
  {
   "cell_type": "code",
   "execution_count": 84,
   "metadata": {
    "colab": {},
    "colab_type": "code",
    "id": "cjEfU6ZSMAPl"
   },
   "outputs": [],
   "source": [
    "# annual income / spending score\n",
    "kmeans = KMeans(n_clusters = 5, init = 'k-means++', random_state = 42)\n",
    "y_kmeans = kmeans.fit_predict(X)"
   ]
  },
  {
   "cell_type": "code",
   "execution_count": 217,
   "metadata": {},
   "outputs": [],
   "source": [
    "# gender / age\n",
    "kmeans_2 = KMeans(n_clusters = 3, init = 'k-means++', random_state = 42)\n",
    "y_kmeans_2 = kmeans_2.fit(X_2)"
   ]
  },
  {
   "cell_type": "markdown",
   "metadata": {
    "colab_type": "text",
    "id": "e7YrS1JAMFnm"
   },
   "source": [
    "## Visualising the clusters"
   ]
  },
  {
   "cell_type": "code",
   "execution_count": 123,
   "metadata": {
    "colab": {
     "base_uri": "https://localhost:8080/",
     "height": 295
    },
    "colab_type": "code",
    "executionInfo": {
     "elapsed": 2048,
     "status": "ok",
     "timestamp": 1586372929246,
     "user": {
      "displayName": "Hadelin de Ponteves",
      "photoUrl": "https://lh3.googleusercontent.com/a-/AOh14GhEuXdT7eQweUmRPW8_laJuPggSK6hfvpl5a6WBaA=s64",
      "userId": "15047218817161520419"
     },
     "user_tz": -240
    },
    "id": "d0ZYecccMHNx",
    "outputId": "01079a1c-4593-4c3e-8c0c-47229c27cd84"
   },
   "outputs": [
    {
     "data": {
      "image/png": "[encoded data removed]",
      "text/plain": [
       "<Figure size 432x288 with 1 Axes>"
      ]
     },
     "metadata": {
      "needs_background": "light"
     },
     "output_type": "display_data"
    }
   ],
   "source": [
    "# annual income / spending score\n",
    "plt.scatter(X[y_kmeans == 0,0],X[y_kmeans == 0,1], s=50, c='red', label='Cluster 1')\n",
    "plt.scatter(X[y_kmeans == 1,0],X[y_kmeans == 1,1], s=50, c='blue', label='Cluster 2')\n",
    "plt.scatter(X[y_kmeans == 2,0],X[y_kmeans == 2,1], s=50, c='green', label='Cluster 3')\n",
    "plt.scatter(X[y_kmeans == 3,0],X[y_kmeans == 3,1], s=50, c='black', label='Cluster 4')\n",
    "plt.scatter(X[y_kmeans == 4,0],X[y_kmeans == 4,1], s=50, c='yellow', label='Cluster 5')\n",
    "plt.scatter(kmeans.cluster_centers_[:, 0],kmeans.cluster_centers_[:, 1],s=100,c='orange',label='Centriods')\n",
    "\n",
    "plt.title('Cluster of Customers')\n",
    "plt.xlabel('Annual Income (k$)')\n",
    "plt.ylabel('Spending Score (1-100)')\n",
    "plt.legend()\n",
    "plt.show()"
   ]
  },
  {
   "cell_type": "code",
   "execution_count": 221,
   "metadata": {},
   "outputs": [
    {
     "data": {
      "image/png": "[encoded data removed]",
      "text/plain": [
       "<Figure size 432x288 with 1 Axes>"
      ]
     },
     "metadata": {
      "needs_background": "light"
     },
     "output_type": "display_data"
    }
   ],
   "source": [
    "# gender / age\n",
    "plt.scatter(X_2[y_kmeans_2 == 0,0],X_2[y_kmeans_2 == 0,1], s=50, c='red', label='Cluster 1')\n",
    "plt.scatter(X_2[y_kmeans_2 == 1,0],X_2[y_kmeans_2 == 1,1], s=50, c='blue', label='Cluster 2')\n",
    "# plt.scatter(X[y_kmeans_2 == 2,0],X[y_kmeans_2 == 2,1], s=50, c='green', label='Cluster 3')\n",
    "# plt.scatter(X[y_kmeans_2 == 3,0],X[y_kmeans_2 == 3,1], s=50, c='black', label='Cluster 4')\n",
    "# plt.scatter(kmeans_2.cluster_centers_[:, 0],kmeans.cluster_centers_[:, 1],s=100,c='orange',label='Centriods')\n",
    "\n",
    "# plt.title('Cluster of Customers')\n",
    "# plt.xlabel('Annual Income (k$)')\n",
    "# plt.ylabel('Spending Score (1-100)')\n",
    "# plt.legend()\n",
    "plt.show()"
   ]
  },
  {
   "cell_type": "code",
   "execution_count": 224,
   "metadata": {},
   "outputs": [
    {
     "data": {
      "text/plain": [
       "array([[0.0, 1.0, 19],\n",
       "       [0.0, 1.0, 21],\n",
       "       [1.0, 0.0, 20],\n",
       "       [1.0, 0.0, 23],\n",
       "       [1.0, 0.0, 31],\n",
       "       [1.0, 0.0, 22],\n",
       "       [1.0, 0.0, 35],\n",
       "       [1.0, 0.0, 23],\n",
       "       [0.0, 1.0, 64],\n",
       "       [1.0, 0.0, 30],\n",
       "       [0.0, 1.0, 67],\n",
       "       [1.0, 0.0, 35],\n",
       "       [1.0, 0.0, 58],\n",
       "       [1.0, 0.0, 24],\n",
       "       [0.0, 1.0, 37],\n",
       "       [0.0, 1.0, 22],\n",
       "       [1.0, 0.0, 35],\n",
       "       [0.0, 1.0, 20],\n",
       "       [0.0, 1.0, 52],\n",
       "       [1.0, 0.0, 35],\n",
       "       [0.0, 1.0, 35],\n",
       "       [0.0, 1.0, 25],\n",
       "       [1.0, 0.0, 46],\n",
       "       [0.0, 1.0, 31],\n",
       "       [1.0, 0.0, 54],\n",
       "       [0.0, 1.0, 29],\n",
       "       [1.0, 0.0, 45],\n",
       "       [0.0, 1.0, 35],\n",
       "       [1.0, 0.0, 40],\n",
       "       [1.0, 0.0, 23],\n",
       "       [0.0, 1.0, 60],\n",
       "       [1.0, 0.0, 21],\n",
       "       [0.0, 1.0, 53],\n",
       "       [0.0, 1.0, 18],\n",
       "       [1.0, 0.0, 49],\n",
       "       [1.0, 0.0, 21],\n",
       "       [1.0, 0.0, 42],\n",
       "       [1.0, 0.0, 30],\n",
       "       [1.0, 0.0, 36],\n",
       "       [1.0, 0.0, 20],\n",
       "       [1.0, 0.0, 65],\n",
       "       [0.0, 1.0, 24],\n",
       "       [0.0, 1.0, 48],\n",
       "       [1.0, 0.0, 31],\n",
       "       [1.0, 0.0, 49],\n",
       "       [1.0, 0.0, 24],\n",
       "       [1.0, 0.0, 50],\n",
       "       [1.0, 0.0, 27],\n",
       "       [1.0, 0.0, 29],\n",
       "       [1.0, 0.0, 31],\n",
       "       [1.0, 0.0, 49],\n",
       "       [0.0, 1.0, 33],\n",
       "       [1.0, 0.0, 31],\n",
       "       [0.0, 1.0, 59],\n",
       "       [1.0, 0.0, 50],\n",
       "       [0.0, 1.0, 47],\n",
       "       [1.0, 0.0, 51],\n",
       "       [0.0, 1.0, 69],\n",
       "       [1.0, 0.0, 27],\n",
       "       [0.0, 1.0, 53],\n",
       "       [0.0, 1.0, 70],\n",
       "       [0.0, 1.0, 19],\n",
       "       [1.0, 0.0, 67],\n",
       "       [1.0, 0.0, 54],\n",
       "       [0.0, 1.0, 63],\n",
       "       [0.0, 1.0, 18],\n",
       "       [1.0, 0.0, 43],\n",
       "       [1.0, 0.0, 68],\n",
       "       [0.0, 1.0, 19],\n",
       "       [1.0, 0.0, 32],\n",
       "       [0.0, 1.0, 70],\n",
       "       [1.0, 0.0, 47],\n",
       "       [1.0, 0.0, 60],\n",
       "       [1.0, 0.0, 60],\n",
       "       [0.0, 1.0, 59],\n",
       "       [0.0, 1.0, 26],\n",
       "       [1.0, 0.0, 45],\n",
       "       [0.0, 1.0, 40],\n",
       "       [1.0, 0.0, 23],\n",
       "       [1.0, 0.0, 49],\n",
       "       [0.0, 1.0, 57],\n",
       "       [0.0, 1.0, 38],\n",
       "       [0.0, 1.0, 67],\n",
       "       [1.0, 0.0, 46],\n",
       "       [1.0, 0.0, 21],\n",
       "       [0.0, 1.0, 48],\n",
       "       [1.0, 0.0, 55],\n",
       "       [1.0, 0.0, 22],\n",
       "       [1.0, 0.0, 34],\n",
       "       [1.0, 0.0, 50],\n",
       "       [1.0, 0.0, 68],\n",
       "       [0.0, 1.0, 18],\n",
       "       [0.0, 1.0, 48],\n",
       "       [1.0, 0.0, 40],\n",
       "       [1.0, 0.0, 32],\n",
       "       [0.0, 1.0, 24],\n",
       "       [1.0, 0.0, 47],\n",
       "       [1.0, 0.0, 27],\n",
       "       [0.0, 1.0, 48],\n",
       "       [0.0, 1.0, 20],\n",
       "       [1.0, 0.0, 23],\n",
       "       [1.0, 0.0, 49],\n",
       "       [0.0, 1.0, 67],\n",
       "       [0.0, 1.0, 26],\n",
       "       [0.0, 1.0, 49],\n",
       "       [1.0, 0.0, 21],\n",
       "       [1.0, 0.0, 66],\n",
       "       [0.0, 1.0, 54],\n",
       "       [0.0, 1.0, 68],\n",
       "       [0.0, 1.0, 66],\n",
       "       [0.0, 1.0, 65],\n",
       "       [1.0, 0.0, 19],\n",
       "       [1.0, 0.0, 38],\n",
       "       [0.0, 1.0, 19],\n",
       "       [1.0, 0.0, 18],\n",
       "       [1.0, 0.0, 19],\n",
       "       [1.0, 0.0, 63],\n",
       "       [1.0, 0.0, 49],\n",
       "       [1.0, 0.0, 51],\n",
       "       [1.0, 0.0, 50],\n",
       "       [0.0, 1.0, 27],\n",
       "       [1.0, 0.0, 38],\n",
       "       [1.0, 0.0, 40],\n",
       "       [0.0, 1.0, 39],\n",
       "       [1.0, 0.0, 23],\n",
       "       [1.0, 0.0, 31],\n",
       "       [0.0, 1.0, 43],\n",
       "       [0.0, 1.0, 40],\n",
       "       [0.0, 1.0, 59],\n",
       "       [0.0, 1.0, 38],\n",
       "       [0.0, 1.0, 47],\n",
       "       [0.0, 1.0, 39],\n",
       "       [1.0, 0.0, 25],\n",
       "       [1.0, 0.0, 31],\n",
       "       [0.0, 1.0, 20],\n",
       "       [1.0, 0.0, 29],\n",
       "       [1.0, 0.0, 44],\n",
       "       [0.0, 1.0, 32],\n",
       "       [0.0, 1.0, 19],\n",
       "       [1.0, 0.0, 35],\n",
       "       [1.0, 0.0, 57],\n",
       "       [0.0, 1.0, 32],\n",
       "       [1.0, 0.0, 28],\n",
       "       [1.0, 0.0, 32],\n",
       "       [0.0, 1.0, 25],\n",
       "       [0.0, 1.0, 28],\n",
       "       [0.0, 1.0, 48],\n",
       "       [1.0, 0.0, 32],\n",
       "       [1.0, 0.0, 34],\n",
       "       [0.0, 1.0, 34],\n",
       "       [0.0, 1.0, 43],\n",
       "       [0.0, 1.0, 39],\n",
       "       [1.0, 0.0, 44],\n",
       "       [1.0, 0.0, 38],\n",
       "       [1.0, 0.0, 47],\n",
       "       [1.0, 0.0, 27],\n",
       "       [0.0, 1.0, 37],\n",
       "       [1.0, 0.0, 30],\n",
       "       [0.0, 1.0, 34],\n",
       "       [1.0, 0.0, 30],\n",
       "       [1.0, 0.0, 56],\n",
       "       [1.0, 0.0, 29],\n",
       "       [0.0, 1.0, 19],\n",
       "       [1.0, 0.0, 31],\n",
       "       [0.0, 1.0, 50],\n",
       "       [1.0, 0.0, 36],\n",
       "       [0.0, 1.0, 42],\n",
       "       [1.0, 0.0, 33],\n",
       "       [1.0, 0.0, 36],\n",
       "       [0.0, 1.0, 32],\n",
       "       [0.0, 1.0, 40],\n",
       "       [0.0, 1.0, 28],\n",
       "       [0.0, 1.0, 36],\n",
       "       [0.0, 1.0, 36],\n",
       "       [1.0, 0.0, 52],\n",
       "       [1.0, 0.0, 30],\n",
       "       [0.0, 1.0, 58],\n",
       "       [0.0, 1.0, 27],\n",
       "       [0.0, 1.0, 59],\n",
       "       [0.0, 1.0, 35],\n",
       "       [1.0, 0.0, 37],\n",
       "       [1.0, 0.0, 32],\n",
       "       [0.0, 1.0, 46],\n",
       "       [1.0, 0.0, 29],\n",
       "       [1.0, 0.0, 41],\n",
       "       [0.0, 1.0, 30],\n",
       "       [1.0, 0.0, 54],\n",
       "       [0.0, 1.0, 28],\n",
       "       [1.0, 0.0, 41],\n",
       "       [1.0, 0.0, 36],\n",
       "       [1.0, 0.0, 34],\n",
       "       [1.0, 0.0, 32],\n",
       "       [0.0, 1.0, 33],\n",
       "       [1.0, 0.0, 38],\n",
       "       [1.0, 0.0, 47],\n",
       "       [1.0, 0.0, 35],\n",
       "       [1.0, 0.0, 45],\n",
       "       [0.0, 1.0, 32],\n",
       "       [0.0, 1.0, 32],\n",
       "       [0.0, 1.0, 30]], dtype=object)"
      ]
     },
     "execution_count": 224,
     "metadata": {},
     "output_type": "execute_result"
    }
   ],
   "source": [
    "X_2"
   ]
  },
  {
   "cell_type": "code",
   "execution_count": 189,
   "metadata": {},
   "outputs": [
    {
     "name": "stdout",
     "output_type": "stream",
     "text": [
      "[['Male', 26], ['Female', 45], ['Female', 23], ['Male', 57], ['Male', 38], ['Female', 21], ['Female', 55], ['Female', 22], ['Female', 34], ['Female', 68], ['Male', 24], ['Male', 67], ['Male', 26], ['Male', 49], ['Male', 65], ['Female', 19], ['Female', 49], ['Female', 50], ['Male', 27], ['Female', 40], ['Male', 39], ['Female', 31], ['Male', 40], ['Male', 38], ['Male', 39], ['Female', 31], ['Female', 29], ['Male', 32], ['Female', 35], ['Male', 32], ['Female', 32], ['Male', 28], ['Female', 32], ['Male', 34], ['Male', 39], ['Female', 38], ['Female', 27], ['Female', 30], ['Female', 30], ['Female', 29], ['Female', 31], ['Female', 36], ['Female', 33], ['Male', 32], ['Male', 28], ['Male', 36], ['Female', 30], ['Male', 27], ['Male', 35], ['Female', 32], ['Female', 29], ['Male', 30], ['Male', 28], ['Female', 36], ['Female', 32], ['Female', 38], ['Female', 35], ['Male', 32], ['Male', 30]]\n"
     ]
    }
   ],
   "source": [
    "# experimental\n",
    "ages_genders = []\n",
    "for i in range(len(X_2)):\n",
    "    if X_2[i][-1] > 50 and X_2[i][-2] > 50 :\n",
    "        age_gen = [X_2[i][1],X_2[i][2]] # age and gender\n",
    "        ages_genders.append(age_gen)\n",
    "\n",
    "print(ages_genders)"
   ]
  },
  {
   "cell_type": "code",
   "execution_count": 196,
   "metadata": {},
   "outputs": [
    {
     "name": "stdout",
     "output_type": "stream",
     "text": [
      "27 males 32 females\n"
     ]
    }
   ],
   "source": [
    "# experimental\n",
    "males = 0\n",
    "females = 0\n",
    "\n",
    "for i in range(len(ages_genders)):\n",
    "    if ages_genders[i][0] == 'Male' :\n",
    "        males += 1\n",
    "    else :\n",
    "        females += 1\n",
    "print(males, 'males', females, 'females')"
   ]
  },
  {
   "cell_type": "code",
   "execution_count": 200,
   "metadata": {},
   "outputs": [
    {
     "name": "stdout",
     "output_type": "stream",
     "text": [
      "35.25423728813559\n"
     ]
    }
   ],
   "source": [
    "# experimental\n",
    "\n",
    "ave = 0\n",
    "for i in ages_genders:\n",
    "    ave += i[1]\n",
    "print(ave/len(ages_genders))  "
   ]
  },
  {
   "cell_type": "code",
   "execution_count": 207,
   "metadata": {},
   "outputs": [
    {
     "name": "stdout",
     "output_type": "stream",
     "text": [
      "200\n"
     ]
    }
   ],
   "source": [
    "print(len(X_2))"
   ]
  }
 ],
 "metadata": {
  "colab": {
   "authorship_tag": "ABX9TyN979dFKn9B6Ro9v0hJ4uqU",
   "name": "K-Means Clustering",
   "provenance": [],
   "toc_visible": true
  },
  "kernelspec": {
   "display_name": "Python 3",
   "language": "python",
   "name": "python3"
  },
  "language_info": {
   "codemirror_mode": {
    "name": "ipython",
    "version": 3
   },
   "file_extension": ".py",
   "mimetype": "text/x-python",
   "name": "python",
   "nbconvert_exporter": "python",
   "pygments_lexer": "ipython3",
   "version": "3.8.5"
  }
 },
 "nbformat": 4,
 "nbformat_minor": 1
}
