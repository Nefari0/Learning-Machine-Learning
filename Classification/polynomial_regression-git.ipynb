{
 "cells": [
  {
   "cell_type": "markdown",
   "metadata": {
    "colab_type": "text",
    "id": "vN99YjPTDena"
   },
   "source": [
    "# Polynomial Regression"
   ]
  },
  {
   "cell_type": "markdown",
   "metadata": {
    "colab_type": "text",
    "id": "ZIx_naXnDyHd"
   },
   "source": [
    "## Importing the libraries"
   ]
  },
  {
   "cell_type": "code",
   "execution_count": 1,
   "metadata": {
    "colab": {},
    "colab_type": "code",
    "id": "FjnmdyPLD2tS"
   },
   "outputs": [],
   "source": [
    "import numpy as np\n",
    "import matplotlib.pyplot as plt\n",
    "import pandas as pd"
   ]
  },
  {
   "cell_type": "markdown",
   "metadata": {
    "colab_type": "text",
    "id": "6c8YExmOD5x5"
   },
   "source": [
    "## Importing the dataset"
   ]
  },
  {
   "cell_type": "code",
   "execution_count": 12,
   "metadata": {
    "colab": {},
    "colab_type": "code",
    "id": "nQOdXhjXD_AE"
   },
   "outputs": [],
   "source": [
    "# dataset = pd.read_csv('Data.csv')\n",
    "dataset = pd.read_csv('Data.csv')\n",
    "X = dataset.iloc[:, :-1].values\n",
    "y = dataset.iloc[:, -1].values"
   ]
  },
  {
   "cell_type": "markdown",
   "metadata": {
    "colab_type": "text",
    "id": "Ud_1XTb28iXH"
   },
   "source": [
    "## Splitting the dataset into the Training set and Test set"
   ]
  },
  {
   "cell_type": "code",
   "execution_count": 13,
   "metadata": {
    "colab": {},
    "colab_type": "code",
    "id": "bUib_pbl8ipB"
   },
   "outputs": [],
   "source": [
    "from sklearn.model_selection import train_test_split\n",
    "X_train, X_test, y_train, y_test = train_test_split(X, y, test_size = 0.2, random_state = 0)"
   ]
  },
  {
   "cell_type": "markdown",
   "metadata": {
    "colab_type": "text",
    "id": "Rb5nWuSHEfBV"
   },
   "source": [
    "## Training the Polynomial Regression model on the Training set"
   ]
  },
  {
   "cell_type": "code",
   "execution_count": 4,
   "metadata": {
    "colab": {},
    "colab_type": "code",
    "id": "HYplp4pTEm0O"
   },
   "outputs": [
    {
     "data": {
      "text/plain": [
       "LinearRegression()"
      ]
     },
     "execution_count": 4,
     "metadata": {},
     "output_type": "execute_result"
    }
   ],
   "source": [
    "from sklearn.preprocessing import PolynomialFeatures\n",
    "from sklearn.linear_model import LinearRegression\n",
    "poly_reg = PolynomialFeatures(degree = 4)\n",
    "X_poly = poly_reg.fit_transform(X_train)\n",
    "regressor = LinearRegression()\n",
    "regressor.fit(X_poly, y_train)"
   ]
  },
  {
   "cell_type": "markdown",
   "metadata": {
    "colab_type": "text",
    "id": "pzF3BRps9nlk"
   },
   "source": [
    "## Predicting the Test set results"
   ]
  },
  {
   "cell_type": "code",
   "execution_count": 5,
   "metadata": {
    "colab": {},
    "colab_type": "code",
    "id": "36aFLFBK9pMk"
   },
   "outputs": [
    {
     "name": "stdout",
     "output_type": "stream",
     "text": [
      "[[2.4  2.  ]\n",
      " [2.   2.  ]\n",
      " [3.68 4.  ]\n",
      " [3.49 4.  ]\n",
      " [2.29 2.  ]\n",
      " [1.9  2.  ]\n",
      " [2.24 2.  ]\n",
      " [4.39 4.  ]\n",
      " [2.55 2.  ]\n",
      " [2.18 2.  ]\n",
      " [4.07 4.  ]\n",
      " [2.07 2.  ]\n",
      " [4.01 4.  ]\n",
      " [2.14 2.  ]\n",
      " [2.17 2.  ]\n",
      " [2.2  2.  ]\n",
      " [5.09 4.  ]\n",
      " [3.49 4.  ]\n",
      " [4.54 4.  ]\n",
      " [2.27 2.  ]\n",
      " [1.9  2.  ]\n",
      " [2.12 2.  ]\n",
      " [3.38 4.  ]\n",
      " [1.72 2.  ]\n",
      " [4.15 4.  ]\n",
      " [3.69 4.  ]\n",
      " [2.09 2.  ]\n",
      " [2.11 2.  ]\n",
      " [1.89 2.  ]\n",
      " [4.12 4.  ]\n",
      " [1.86 2.  ]\n",
      " [4.19 4.  ]\n",
      " [4.39 4.  ]\n",
      " [1.93 2.  ]\n",
      " [1.94 2.  ]\n",
      " [1.93 2.  ]\n",
      " [3.9  4.  ]\n",
      " [3.91 4.  ]\n",
      " [2.09 2.  ]\n",
      " [3.42 4.  ]\n",
      " [2.31 2.  ]\n",
      " [2.13 2.  ]\n",
      " [2.16 2.  ]\n",
      " [1.88 2.  ]\n",
      " [1.8  2.  ]\n",
      " [2.4  2.  ]\n",
      " [2.13 2.  ]\n",
      " [3.77 4.  ]\n",
      " [2.01 2.  ]\n",
      " [2.28 2.  ]\n",
      " [3.24 4.  ]\n",
      " [2.   2.  ]\n",
      " [4.86 4.  ]\n",
      " [2.13 2.  ]\n",
      " [2.04 2.  ]\n",
      " [2.12 2.  ]\n",
      " [2.26 4.  ]\n",
      " [4.37 2.  ]\n",
      " [2.49 2.  ]\n",
      " [1.94 4.  ]\n",
      " [1.98 2.  ]\n",
      " [2.38 2.  ]\n",
      " [1.78 2.  ]\n",
      " [2.04 2.  ]\n",
      " [1.93 2.  ]\n",
      " [1.96 2.  ]\n",
      " [2.34 2.  ]\n",
      " [2.25 2.  ]\n",
      " [3.68 4.  ]\n",
      " [3.17 4.  ]\n",
      " [1.55 2.  ]\n",
      " [2.11 2.  ]\n",
      " [1.91 2.  ]\n",
      " [1.93 2.  ]\n",
      " [2.66 2.  ]\n",
      " [2.07 2.  ]\n",
      " [4.39 4.  ]\n",
      " [1.84 2.  ]\n",
      " [1.69 2.  ]\n",
      " [2.32 2.  ]\n",
      " [4.75 4.  ]\n",
      " [2.01 2.  ]\n",
      " [3.59 4.  ]\n",
      " [2.35 2.  ]\n",
      " [1.92 2.  ]\n",
      " [4.42 4.  ]\n",
      " [2.57 2.  ]\n",
      " [3.06 2.  ]\n",
      " [2.47 4.  ]\n",
      " [2.57 2.  ]\n",
      " [4.22 4.  ]\n",
      " [1.99 2.  ]\n",
      " [2.11 4.  ]\n",
      " [3.17 4.  ]\n",
      " [3.15 4.  ]\n",
      " [3.55 2.  ]\n",
      " [4.06 4.  ]\n",
      " [3.49 4.  ]\n",
      " [3.42 4.  ]\n",
      " [1.77 2.  ]\n",
      " [2.17 2.  ]\n",
      " [2.09 2.  ]\n",
      " [4.18 4.  ]\n",
      " [3.47 4.  ]\n",
      " [2.15 2.  ]\n",
      " [2.56 2.  ]\n",
      " [4.68 4.  ]\n",
      " [3.66 4.  ]\n",
      " [1.93 2.  ]\n",
      " [1.57 2.  ]\n",
      " [3.2  4.  ]\n",
      " [2.15 2.  ]\n",
      " [1.95 2.  ]\n",
      " [2.24 4.  ]\n",
      " [2.22 2.  ]\n",
      " [2.44 2.  ]\n",
      " [1.98 2.  ]\n",
      " [3.3  4.  ]\n",
      " [1.88 2.  ]\n",
      " [2.14 2.  ]\n",
      " [2.1  2.  ]\n",
      " [4.06 4.  ]\n",
      " [2.22 2.  ]\n",
      " [2.09 2.  ]\n",
      " [3.19 4.  ]\n",
      " [2.16 4.  ]\n",
      " [2.38 2.  ]\n",
      " [2.18 4.  ]\n",
      " [1.95 2.  ]\n",
      " [3.82 4.  ]\n",
      " [2.94 2.  ]\n",
      " [2.31 2.  ]\n",
      " [4.19 4.  ]\n",
      " [2.01 2.  ]\n",
      " [2.2  2.  ]\n",
      " [3.4  4.  ]\n",
      " [2.04 2.  ]]\n"
     ]
    }
   ],
   "source": [
    "y_pred = regressor.predict(poly_reg.transform(X_test))\n",
    "np.set_printoptions(precision=2)\n",
    "print(np.concatenate((y_pred.reshape(len(y_pred),1), y_test.reshape(len(y_test),1)),1))"
   ]
  },
  {
   "cell_type": "markdown",
   "metadata": {
    "colab_type": "text",
    "id": "Fz1uTlWV919-"
   },
   "source": [
    "## Evaluating the Model Performance"
   ]
  },
  {
   "cell_type": "code",
   "execution_count": 6,
   "metadata": {
    "colab": {},
    "colab_type": "code",
    "id": "xvZQ_4W893-e"
   },
   "outputs": [
    {
     "data": {
      "text/plain": [
       "0.6084167322305893"
      ]
     },
     "execution_count": 6,
     "metadata": {},
     "output_type": "execute_result"
    }
   ],
   "source": [
    "from sklearn.metrics import r2_score\n",
    "r2_score(y_test, y_pred)"
   ]
  }
 ],
 "metadata": {
  "colab": {
   "collapsed_sections": [],
   "name": "polynomial_regression.ipynb",
   "provenance": [],
   "toc_visible": true
  },
  "kernelspec": {
   "display_name": "Python 3",
   "language": "python",
   "name": "python3"
  },
  "language_info": {
   "codemirror_mode": {
    "name": "ipython",
    "version": 3
   },
   "file_extension": ".py",
   "mimetype": "text/x-python",
   "name": "python",
   "nbconvert_exporter": "python",
   "pygments_lexer": "ipython3",
   "version": "3.8.5"
  }
 },
 "nbformat": 4,
 "nbformat_minor": 1
}
